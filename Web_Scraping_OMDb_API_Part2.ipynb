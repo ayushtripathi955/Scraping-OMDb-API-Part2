{
 "cells": [
  {
   "cell_type": "markdown",
   "metadata": {
    "toc": true
   },
   "source": [
    "<h1>Table of Contents<span class=\"tocSkip\"></span></h1>\n",
    "\n",
    "<span><a href=\"#(a)-Write-a-program-in-Python-or-Java-that-uses-the-OMDb-API-to-lookup/search-your-top-10-choices-of-movie-titles-and-extract-their-imdbIDs.\" data-toc-modified-id=\"(a)-Write-a-program-in-Python-or-Java-that-uses-the-OMDb-API-to-lookup/search-your-top-10-choices-of-movie-titles-and-extract-their-imdbIDs.-4.1\">(a) Write a program in Python or Java that uses the OMDb API to lookup/search <em>your</em> top 10 choices of movie titles and extract their imdbIDs.</a></span></li><li><span><a href=\"#(b)-Augment-the-program-you-developed-in-(a)-to-look-up-the-movie-details-using-the-imdbIDs-you-found-(Use-only-the-IDs,-NOT-titles)-and-print-out-the-result-to-the-screen.\" data-toc-modified-id=\"(b)-Augment-the-program-you-developed-in-(a)-to-look-up-the-movie-details-using-the-imdbIDs-you-found-(Use-only-the-IDs,-NOT-titles)-and-print-out-the-result-to-the-screen.-4.2\">(b) Augment the program you developed in (a) to look up the movie details using the imdbIDs you found (Use only the IDs, NOT titles) and print out the result to the screen.</a></span></li><li><span><a href=\"#(c)-&quot;Recycle&quot;-+-augment-your-code-from-(2.d)-to-insert-the-following-information-of-your-top-10-movie-titles-into-a-new-SQL-table-named-&quot;omdb&quot;:\" data-toc-modified-id=\"(c)-&quot;Recycle&quot;-+-augment-your-code-from-(2.d)-to-insert-the-following-information-of-your-top-10-movie-titles-into-a-new-SQL-table-named-&quot;omdb&quot;:-4.3\">(c) \"Recycle\" + augment your code from (2.d) to insert the following information of <em>your</em> top 10 movie titles into a new SQL table named \"omdb\":</a></span></li></ul></li></ul></div>"
   ]
  },
  {
   "cell_type": "code",
   "execution_count": 151,
   "metadata": {
    "ExecuteTime": {
     "end_time": "2020-01-29T01:48:57.978988Z",
     "start_time": "2020-01-29T01:48:57.975924Z"
    }
   },
   "outputs": [],
   "source": [
    "import pandas as pd\n",
    "import requests, json, time, urllib\n",
    "from IPython.display import HTML\n",
    "import mysql.connector\n",
    "from sqlalchemy import create_engine"
   ]
  },
  {
   "cell_type": "markdown",
   "metadata": {},
   "source": [
    "## Go to http://www.omdbapi.com/ and make yourself familiar with the API and its use.\n",
    "Request an API Key from the page. Specifically, read \"Usage\", \"Parameters\", and \"Examples\", and write down the URL string that would search for all the movies containing the word \"blade\". Include it as a comment in your code script."
   ]
  },
  {
   "cell_type": "markdown",
   "metadata": {},
   "source": [
    "<div class=\"bs-docs-section\" id=\"parameters\">\n",
    "            <div class=\"row\">\n",
    "                <div class=\"col-lg-12\">\n",
    "                    <div class=\"page-header\">\n",
    "                        <h2>Parameters</h2>\n",
    "                    </div>\n",
    "                </div>\n",
    "            </div>\n",
    "            <div class=\"row\">\n",
    "                <div class=\"col-lg-12\">\n",
    "                    <div class=\"bs-component\">\n",
    "                        <h4>By ID or Title</h4>\n",
    "                        <table class=\"table table-bordered table-striped table-hover\">\n",
    "                            <thead>\n",
    "                                <tr>\n",
    "                                    <th>Parameter</th>\n",
    "                                    <th>Required</th>\n",
    "                                    <th>Valid Options</th>\n",
    "                                    <th>Default Value</th>\n",
    "                                    <th>Description</th>\n",
    "                                </tr>\n",
    "                            </thead>\n",
    "                            <tbody>\n",
    "                                <tr>\n",
    "                                    <td>i</td>\n",
    "                                    <td><span class=\"label label-success\">Optional*</span></td>\n",
    "                                    <td></td>\n",
    "                                    <td>&lt;empty&gt;</td>\n",
    "                                    <td>A valid IMDb ID (e.g. tt1285016)</td>\n",
    "                                </tr>\n",
    "                                <tr>\n",
    "                                    <td>t</td>\n",
    "                                    <td><span class=\"label label-success\">Optional*</span></td>\n",
    "                                    <td></td>\n",
    "                                    <td>&lt;empty&gt;</td>\n",
    "                                    <td>Movie title to search for.</td>\n",
    "                                </tr>\n",
    "                                <tr>\n",
    "                                    <td>type</td>\n",
    "                                    <td><span class=\"label label-default\">No</span></td>\n",
    "                                    <td>movie, series, episode</td>\n",
    "                                    <td>&lt;empty&gt;</td>\n",
    "                                    <td>Type of result to return.</td>\n",
    "                                </tr>\n",
    "                                <tr>\n",
    "                                    <td>y</td>\n",
    "                                    <td><span class=\"label label-default\">No</span></td>\n",
    "                                    <td></td>\n",
    "                                    <td>&lt;empty&gt;</td>\n",
    "                                    <td>Year of release.</td>\n",
    "                                </tr>\n",
    "                                <tr>\n",
    "                                    <td>plot</td>\n",
    "                                    <td><span class=\"label label-default\">No</span></td>\n",
    "                                    <td>short, full</td>\n",
    "                                    <td>short</td>\n",
    "                                    <td>Return short or full plot.</td>\n",
    "                                </tr>\n",
    "                                <tr>\n",
    "                                    <td>r</td>\n",
    "                                    <td><span class=\"label label-default\">No</span></td>\n",
    "                                    <td>json, xml</td>\n",
    "                                    <td>json</td>\n",
    "                                    <td>The data type to return.</td>\n",
    "                                </tr>\n",
    "                                <tr>\n",
    "                                    <td>callback</td>\n",
    "                                    <td><span class=\"label label-default\">No</span></td>\n",
    "                                    <td></td>\n",
    "                                    <td>&lt;empty&gt;</td>\n",
    "                                    <td>JSONP callback name.</td>\n",
    "                                </tr>\n",
    "                                <tr>\n",
    "                                    <td>v</td>\n",
    "                                    <td><span class=\"label label-default\">No</span></td>\n",
    "                                    <td></td>\n",
    "                                    <td>1</td>\n",
    "                                    <td>API version (reserved for future use).</td>\n",
    "                                </tr>\n",
    "                            </tbody>\n",
    "                        </table>\n",
    "                        <small>*Please note while both \"i\" and \"t\" are optional at least one argument is required.</small>\n",
    "                    </div>\n",
    "                </div>\n",
    "            </div>\n",
    "            <hr>\n",
    "            <div class=\"row\">\n",
    "                <div class=\"col-lg-12\">\n",
    "                    <div class=\"bs-component\">\n",
    "                        <h4>By Search</h4>\n",
    "                        <table class=\"table table-bordered table-striped table-hover\">\n",
    "                            <thead>\n",
    "                                <tr>\n",
    "                                    <th>Parameter</th>\n",
    "                                    <th>Required</th>\n",
    "                                    <th>Valid options</th>\n",
    "                                    <th>Default Value</th>\n",
    "                                    <th>Description</th>\n",
    "                                </tr>\n",
    "                            </thead>\n",
    "                            <tbody>\n",
    "                                <tr>\n",
    "                                    <td>s</td>\n",
    "                                    <td><span class=\"label label-success\">Yes</span></td>\n",
    "                                    <td></td>\n",
    "                                    <td>&lt;empty&gt;</td>\n",
    "                                    <td>Movie title to search for.</td>\n",
    "                                </tr>\n",
    "                                <tr>\n",
    "                                    <td>type</td>\n",
    "                                    <td><span class=\"label label-default\">No</span></td>\n",
    "                                    <td>movie, series, episode</td>\n",
    "                                    <td>&lt;empty&gt;</td>\n",
    "                                    <td>Type of result to return.</td>\n",
    "                                </tr>\n",
    "                                <tr>\n",
    "                                    <td>y</td>\n",
    "                                    <td><span class=\"label label-default\">No</span></td>\n",
    "                                    <td></td>\n",
    "                                    <td>&lt;empty&gt;</td>\n",
    "                                    <td>Year of release.</td>\n",
    "                                </tr>\n",
    "                                <tr>\n",
    "                                    <td>r</td>\n",
    "                                    <td><span class=\"label label-default\">No</span></td>\n",
    "                                    <td>json, xml</td>\n",
    "                                    <td>json</td>\n",
    "                                    <td>The data type to return.</td>\n",
    "                                </tr>\n",
    "                                <tr>\n",
    "                                    <td>page <span class=\"label label-info\">New!</span></td>\n",
    "                                    <td><span class=\"label label-default\">No</span></td>\n",
    "                                    <td>1-100</td>\n",
    "                                    <td>1</td>\n",
    "                                    <td>Page number to return.</td>\n",
    "                                </tr>\n",
    "                                <tr>\n",
    "                                    <td>callback</td>\n",
    "                                    <td><span class=\"label label-default\">No</span></td>\n",
    "                                    <td></td>\n",
    "                                    <td>&lt;empty&gt;</td>\n",
    "                                    <td>JSONP callback name.</td>\n",
    "                                </tr>\n",
    "                                <tr>\n",
    "                                    <td>v</td>\n",
    "                                    <td><span class=\"label label-default\">No</span></td>\n",
    "                                    <td></td>\n",
    "                                    <td>1</td>\n",
    "                                    <td>API version (reserved for future use).</td>\n",
    "                                </tr>\n",
    "                            </tbody>\n",
    "                        </table>\n",
    "                    </div>\n",
    "                </div>\n",
    "            </div>\n",
    "        </div>"
   ]
  },
  {
   "cell_type": "markdown",
   "metadata": {},
   "source": [
    "## (a) Write a program in Python or Java that uses the OMDb API to lookup/search _your_ top 10 choices of movie titles and extract their imdbIDs. \n",
    "Print the movie titles along with their imdbID to the screen. (E.g., search for \"Dangal\" or \"Wolf Warrior 2\" and record the imdbID that corresponds to the exact movie you have in mind)."
   ]
  },
  {
   "cell_type": "code",
   "execution_count": 76,
   "metadata": {
    "ExecuteTime": {
     "end_time": "2020-01-28T23:24:48.937489Z",
     "start_time": "2020-01-28T23:24:48.933468Z"
    }
   },
   "outputs": [],
   "source": [
    "TOP_10_Movies = ['The man from earth','Forrest Gump','Gravity','Shawshank Redemption', 'The A-team', 'Blue Streak', 'Indiana Jones and the Last Crusade', 'The Dark knight', 'The Green Mile', 'The Usual Suspects']"
   ]
  },
  {
   "cell_type": "code",
   "execution_count": 89,
   "metadata": {
    "ExecuteTime": {
     "end_time": "2020-01-28T23:39:26.715875Z",
     "start_time": "2020-01-28T23:39:03.087433Z"
    }
   },
   "outputs": [
    {
     "name": "stdout",
     "output_type": "stream",
     "text": [
      "The Man from Earth \n",
      " IMDB ID: tt0756683 \n",
      " Year: 2007 \n",
      "\n",
      "Forrest Gump \n",
      " IMDB ID: tt0109830 \n",
      " Year: 1994 \n",
      "\n",
      "Gravity \n",
      " IMDB ID: tt1454468 \n",
      " Year: 2013 \n",
      "\n",
      "The Shawshank Redemption \n",
      " IMDB ID: tt0111161 \n",
      " Year: 1994 \n",
      "\n",
      "The A-Team \n",
      " IMDB ID: tt0429493 \n",
      " Year: 2010 \n",
      "\n",
      "Blue Streak \n",
      " IMDB ID: tt0181316 \n",
      " Year: 1999 \n",
      "\n",
      "Indiana Jones and the Last Crusade \n",
      " IMDB ID: tt0097576 \n",
      " Year: 1989 \n",
      "\n",
      "The Dark Knight \n",
      " IMDB ID: tt0468569 \n",
      " Year: 2008 \n",
      "\n",
      "The Green Mile \n",
      " IMDB ID: tt0120689 \n",
      " Year: 1999 \n",
      "\n",
      "The Usual Suspects \n",
      " IMDB ID: tt0114814 \n",
      " Year: 1995 \n",
      "\n"
     ]
    }
   ],
   "source": [
    "movie_details = []\n",
    "for movie in TOP_10_Movies:\n",
    "    \n",
    "    # Search usng the movie titles\n",
    "    params = {\n",
    "        't':movie,\n",
    "        'plot': 'short',\n",
    "        'r':'json'\n",
    "    }\n",
    "\n",
    "    urlencoded_params = urllib.parse.urlencode(params)\n",
    "\n",
    "    r = requests.get(API_endpoint+urlencoded_params)\n",
    "    time.sleep(1)\n",
    "    result = r.json()\n",
    "    print(result['Title'], '\\nIMDB ID:',result['imdbID'], '\\nYear:',result['Year'], '\\n')\n",
    "    movie_details.append(result)"
   ]
  },
  {
   "cell_type": "markdown",
   "metadata": {},
   "source": [
    "## (b) Augment the program you developed in (a) to look up the movie details using the imdbIDs you found (Use only the IDs, NOT titles) and print out the result to the screen. "
   ]
  },
  {
   "cell_type": "code",
   "execution_count": 149,
   "metadata": {
    "ExecuteTime": {
     "end_time": "2020-01-29T01:47:21.947272Z",
     "start_time": "2020-01-29T01:47:16.273140Z"
    },
    "scrolled": false
   },
   "outputs": [
    {
     "data": {
      "text/html": [
       "<img src = https://m.media-amazon.com/images/M/MV5BMzQ5NGQwOTUtNWJlZi00ZTFiLWI0ZTEtOGU3MTA2ZGU5OWZiXkEyXkFqcGdeQXVyMTczNjQwOTY@._V1_SX300.jpg width=\"150\">"
      ],
      "text/plain": [
       "<IPython.core.display.HTML object>"
      ]
     },
     "metadata": {},
     "output_type": "display_data"
    },
    {
     "name": "stdout",
     "output_type": "stream",
     "text": [
      "The Man from Earth\n",
      "IMDB ID: tt0756683 \n",
      "Year: 2007 \n",
      "\n"
     ]
    },
    {
     "data": {
      "text/html": [
       "<img src = https://m.media-amazon.com/images/M/MV5BNWIwODRlZTUtY2U3ZS00Yzg1LWJhNzYtMmZiYmEyNmU1NjMzXkEyXkFqcGdeQXVyMTQxNzMzNDI@._V1_SX300.jpg width=\"150\">"
      ],
      "text/plain": [
       "<IPython.core.display.HTML object>"
      ]
     },
     "metadata": {},
     "output_type": "display_data"
    },
    {
     "name": "stdout",
     "output_type": "stream",
     "text": [
      "Forrest Gump\n",
      "IMDB ID: tt0109830 \n",
      "Year: 1994 \n",
      "\n"
     ]
    },
    {
     "data": {
      "text/html": [
       "<img src = https://m.media-amazon.com/images/M/MV5BNjE5MzYwMzYxMF5BMl5BanBnXkFtZTcwOTk4MTk0OQ@@._V1_SX300.jpg width=\"150\">"
      ],
      "text/plain": [
       "<IPython.core.display.HTML object>"
      ]
     },
     "metadata": {},
     "output_type": "display_data"
    },
    {
     "name": "stdout",
     "output_type": "stream",
     "text": [
      "Gravity\n",
      "IMDB ID: tt1454468 \n",
      "Year: 2013 \n",
      "\n"
     ]
    },
    {
     "data": {
      "text/html": [
       "<img src = https://m.media-amazon.com/images/M/MV5BMDFkYTc0MGEtZmNhMC00ZDIzLWFmNTEtODM1ZmRlYWMwMWFmXkEyXkFqcGdeQXVyMTMxODk2OTU@._V1_SX300.jpg width=\"150\">"
      ],
      "text/plain": [
       "<IPython.core.display.HTML object>"
      ]
     },
     "metadata": {},
     "output_type": "display_data"
    },
    {
     "name": "stdout",
     "output_type": "stream",
     "text": [
      "The Shawshank Redemption\n",
      "IMDB ID: tt0111161 \n",
      "Year: 1994 \n",
      "\n"
     ]
    },
    {
     "data": {
      "text/html": [
       "<img src = https://m.media-amazon.com/images/M/MV5BMTc4ODc4NTQ1N15BMl5BanBnXkFtZTcwNDUxODUyMw@@._V1_SX300.jpg width=\"150\">"
      ],
      "text/plain": [
       "<IPython.core.display.HTML object>"
      ]
     },
     "metadata": {},
     "output_type": "display_data"
    },
    {
     "name": "stdout",
     "output_type": "stream",
     "text": [
      "The A-Team\n",
      "IMDB ID: tt0429493 \n",
      "Year: 2010 \n",
      "\n"
     ]
    },
    {
     "data": {
      "text/html": [
       "<img src = https://m.media-amazon.com/images/M/MV5BYTJkYTBlZjktYmYyYi00ZWQ0LTgyMWYtMjQ5Yzg1Y2M3YzE5XkEyXkFqcGdeQXVyMTQxNzMzNDI@._V1_SX300.jpg width=\"150\">"
      ],
      "text/plain": [
       "<IPython.core.display.HTML object>"
      ]
     },
     "metadata": {},
     "output_type": "display_data"
    },
    {
     "name": "stdout",
     "output_type": "stream",
     "text": [
      "Blue Streak\n",
      "IMDB ID: tt0181316 \n",
      "Year: 1999 \n",
      "\n"
     ]
    },
    {
     "data": {
      "text/html": [
       "<img src = https://m.media-amazon.com/images/M/MV5BMjNkMzc2N2QtNjVlNS00ZTk5LTg0MTgtODY2MDAwNTMwZjBjXkEyXkFqcGdeQXVyNDk3NzU2MTQ@._V1_SX300.jpg width=\"150\">"
      ],
      "text/plain": [
       "<IPython.core.display.HTML object>"
      ]
     },
     "metadata": {},
     "output_type": "display_data"
    },
    {
     "name": "stdout",
     "output_type": "stream",
     "text": [
      "Indiana Jones and the Last Crusade\n",
      "IMDB ID: tt0097576 \n",
      "Year: 1989 \n",
      "\n"
     ]
    },
    {
     "data": {
      "text/html": [
       "<img src = https://m.media-amazon.com/images/M/MV5BMTMxNTMwODM0NF5BMl5BanBnXkFtZTcwODAyMTk2Mw@@._V1_SX300.jpg width=\"150\">"
      ],
      "text/plain": [
       "<IPython.core.display.HTML object>"
      ]
     },
     "metadata": {},
     "output_type": "display_data"
    },
    {
     "name": "stdout",
     "output_type": "stream",
     "text": [
      "The Dark Knight\n",
      "IMDB ID: tt0468569 \n",
      "Year: 2008 \n",
      "\n"
     ]
    },
    {
     "data": {
      "text/html": [
       "<img src = https://m.media-amazon.com/images/M/MV5BMTUxMzQyNjA5MF5BMl5BanBnXkFtZTYwOTU2NTY3._V1_SX300.jpg width=\"150\">"
      ],
      "text/plain": [
       "<IPython.core.display.HTML object>"
      ]
     },
     "metadata": {},
     "output_type": "display_data"
    },
    {
     "name": "stdout",
     "output_type": "stream",
     "text": [
      "The Green Mile\n",
      "IMDB ID: tt0120689 \n",
      "Year: 1999 \n",
      "\n"
     ]
    },
    {
     "data": {
      "text/html": [
       "<img src = https://m.media-amazon.com/images/M/MV5BYTViNjMyNmUtNDFkNC00ZDRlLThmMDUtZDU2YWE4NGI2ZjVmXkEyXkFqcGdeQXVyNjU0OTQ0OTY@._V1_SX300.jpg width=\"150\">"
      ],
      "text/plain": [
       "<IPython.core.display.HTML object>"
      ]
     },
     "metadata": {},
     "output_type": "display_data"
    },
    {
     "name": "stdout",
     "output_type": "stream",
     "text": [
      "The Usual Suspects\n",
      "IMDB ID: tt0114814 \n",
      "Year: 1995 \n",
      "\n"
     ]
    }
   ],
   "source": [
    "for item in movie_details:\n",
    "    \n",
    "    #Search using the IMDB Movie IDs\n",
    "    params = {\n",
    "        'i':item['imdbID']\n",
    "    }\n",
    "\n",
    "    urlencoded_params = urllib.parse.urlencode(params)\n",
    "\n",
    "    r = requests.get(API_endpoint+urlencoded_params)\n",
    "    time.sleep(0.5)\n",
    "    result = r.json()\n",
    "    \n",
    "    display(HTML('<img src = {} width=\"150\">'.format(item['Poster'])))\n",
    "    print(result['Title'])\n",
    "    print('IMDB ID:',result['imdbID'], '\\nYear:',result['Year'], '\\n')"
   ]
  },
  {
   "cell_type": "markdown",
   "metadata": {},
   "source": [
    "## (c) \"Recycle\" + augment your code from (2.d) to insert the following information of _your_ top 10 movie titles into a new SQL table named \"omdb\":\n",
    "\n",
    "`title, year, genre, director, imdb_rating, rotten_tomatoes, metacritic, plot, box_office`\n",
    "\n",
    "Please store all ratings (imdb_rating, rotten_tomatoes, metacritic) all as full integers representing percentages, i.e., 8.5/10 = 85, 80% = 80."
   ]
  },
  {
   "cell_type": "code",
   "execution_count": 110,
   "metadata": {
    "ExecuteTime": {
     "end_time": "2020-01-28T23:59:11.010284Z",
     "start_time": "2020-01-28T23:59:11.003153Z"
    }
   },
   "outputs": [],
   "source": [
    "# Checking if ratings exist for the movie, else set it to null\n",
    "def check_rating(ratings, source):\n",
    "    if source in [a['Source'] for a in ratings]:\n",
    "        return clean([a['Value'] for a in ratings if a['Source']==source][0])\n",
    "    else:\n",
    "        return None\n",
    "\n",
    "# function to clean the rating values to a uniform format\n",
    "def clean(val):\n",
    "    if '%' in val:\n",
    "        return int(val.replace('%',''))\n",
    "    elif '/' not in val:\n",
    "        return int(float(val)*10)\n",
    "    else:\n",
    "        return int(eval(val)*100)"
   ]
  },
  {
   "cell_type": "code",
   "execution_count": 111,
   "metadata": {
    "ExecuteTime": {
     "end_time": "2020-01-28T23:59:11.887726Z",
     "start_time": "2020-01-28T23:59:11.881740Z"
    }
   },
   "outputs": [],
   "source": [
    "details = []\n",
    "for movie in movie_details:\n",
    "    \n",
    "    # Store required details in a dictionary\n",
    "    details_cleaned = {}\n",
    "    \n",
    "    details_cleaned['title'] = movie['Title']\n",
    "    details_cleaned['year'] = movie['Year']\n",
    "    details_cleaned['genre'] = movie['Genre']\n",
    "    details_cleaned['director'] = movie['Director']\n",
    "    details_cleaned['imdb_rating'] = clean(movie['imdbRating'])\n",
    "    details_cleaned['plot'] = movie['Plot']\n",
    "    details_cleaned['box_office'] = movie['BoxOffice']\n",
    "    \n",
    "    details_cleaned['rotten_tomatoes'] = check_rating(movie['Ratings'], 'Rotten Tomatoes')\n",
    "    details_cleaned['metacritic'] = check_rating(movie['Ratings'], 'Metacritic')\n",
    "    \n",
    "    details.append(details_cleaned)"
   ]
  },
  {
   "cell_type": "code",
   "execution_count": 119,
   "metadata": {
    "ExecuteTime": {
     "end_time": "2020-01-29T00:17:28.988776Z",
     "start_time": "2020-01-29T00:17:28.938669Z"
    }
   },
   "outputs": [],
   "source": [
    "# connect to the local SQL instance\n",
    "conn = mysql.connector.connect(host='localhost',database='ucdavis',user='root',password='')\n",
    "cursor = conn.cursor()\n",
    "\n",
    "SQL_TABLE = 'omdb'\n",
    "\n",
    "TABLE_DEF = '''(id INT NOT NULL AUTO_INCREMENT PRIMARY KEY, title VARCHAR(100), year INT, genre VARCHAR(100), director VARCHAR(100), imdb_rating INT, rotten_tomatoes INT, metacritic INT, plot VARCHAR(1000), box_office VARCHAR(50))'''\n",
    "\n",
    "# Create an empty table with the required schema\n",
    "cursor.execute(\"CREATE TABLE IF NOT EXISTS \" + SQL_DB + \".\" + SQL_TABLE + \" \" + TABLE_DEF + \";\")"
   ]
  },
  {
   "cell_type": "code",
   "execution_count": 117,
   "metadata": {
    "ExecuteTime": {
     "end_time": "2020-01-29T00:14:50.492800Z",
     "start_time": "2020-01-29T00:14:50.486973Z"
    }
   },
   "outputs": [],
   "source": [
    "df = pd.DataFrame(details, columns = ['title', 'year', 'genre', 'director', 'imdb_rating', 'rotten_tomatoes', 'metacritic', 'plot', 'box_office'])"
   ]
  },
  {
   "cell_type": "code",
   "execution_count": 137,
   "metadata": {
    "ExecuteTime": {
     "end_time": "2020-01-29T00:34:17.514659Z",
     "start_time": "2020-01-29T00:34:17.373614Z"
    }
   },
   "outputs": [
    {
     "data": {
      "text/plain": [
       "<sqlalchemy.engine.base.Connection at 0x1ae32afbb70>"
      ]
     },
     "execution_count": 137,
     "metadata": {},
     "output_type": "execute_result"
    }
   ],
   "source": [
    "# install the driver (PyMySql) to connect with an ORM\n",
    "engine = create_engine('mysql+pymysql://root@localhost:3306/ucdavis')\n",
    "engine.connect()"
   ]
  },
  {
   "cell_type": "code",
   "execution_count": 138,
   "metadata": {
    "ExecuteTime": {
     "end_time": "2020-01-29T00:34:23.032978Z",
     "start_time": "2020-01-29T00:34:23.006017Z"
    }
   },
   "outputs": [],
   "source": [
    "# Insert the dataframe to SQL using the ORM based connection established earlier\n",
    "df.to_sql('omdb',engine,if_exists = 'append',index = False)"
   ]
  },
  {
   "cell_type": "code",
   "execution_count": 160,
   "metadata": {
    "ExecuteTime": {
     "end_time": "2020-01-31T01:58:57.390210Z",
     "start_time": "2020-01-31T01:58:56.828080Z"
    }
   },
   "outputs": [
    {
     "data": {
      "text/html": [
       "<div>\n",
       "<style scoped>\n",
       "    .dataframe tbody tr th:only-of-type {\n",
       "        vertical-align: middle;\n",
       "    }\n",
       "\n",
       "    .dataframe tbody tr th {\n",
       "        vertical-align: top;\n",
       "    }\n",
       "\n",
       "    .dataframe thead th {\n",
       "        text-align: right;\n",
       "    }\n",
       "</style>\n",
       "<table border=\"1\" class=\"dataframe\">\n",
       "  <thead>\n",
       "    <tr style=\"text-align: right;\">\n",
       "      <th></th>\n",
       "      <th>id</th>\n",
       "      <th>title</th>\n",
       "      <th>year</th>\n",
       "      <th>genre</th>\n",
       "      <th>director</th>\n",
       "      <th>imdb_rating</th>\n",
       "      <th>rotten_tomatoes</th>\n",
       "      <th>metacritic</th>\n",
       "      <th>plot</th>\n",
       "      <th>box_office</th>\n",
       "    </tr>\n",
       "  </thead>\n",
       "  <tbody>\n",
       "    <tr>\n",
       "      <th>0</th>\n",
       "      <td>1</td>\n",
       "      <td>The Man from Earth</td>\n",
       "      <td>2007</td>\n",
       "      <td>Drama, Fantasy, Sci-Fi</td>\n",
       "      <td>Richard Schenkman</td>\n",
       "      <td>79</td>\n",
       "      <td>NaN</td>\n",
       "      <td>NaN</td>\n",
       "      <td>An impromptu goodbye party for Professor John ...</td>\n",
       "      <td>N/A</td>\n",
       "    </tr>\n",
       "    <tr>\n",
       "      <th>1</th>\n",
       "      <td>2</td>\n",
       "      <td>Forrest Gump</td>\n",
       "      <td>1994</td>\n",
       "      <td>Drama, Romance</td>\n",
       "      <td>Robert Zemeckis</td>\n",
       "      <td>88</td>\n",
       "      <td>72.0</td>\n",
       "      <td>82.0</td>\n",
       "      <td>The presidencies of Kennedy and Johnson, the e...</td>\n",
       "      <td>$330,000,000</td>\n",
       "    </tr>\n",
       "    <tr>\n",
       "      <th>2</th>\n",
       "      <td>3</td>\n",
       "      <td>Gravity</td>\n",
       "      <td>2013</td>\n",
       "      <td>Drama, Sci-Fi, Thriller</td>\n",
       "      <td>Alfonso Cuarón</td>\n",
       "      <td>77</td>\n",
       "      <td>96.0</td>\n",
       "      <td>96.0</td>\n",
       "      <td>Two astronauts work together to survive after ...</td>\n",
       "      <td>$274,084,951</td>\n",
       "    </tr>\n",
       "    <tr>\n",
       "      <th>3</th>\n",
       "      <td>4</td>\n",
       "      <td>The Shawshank Redemption</td>\n",
       "      <td>1994</td>\n",
       "      <td>Drama</td>\n",
       "      <td>Frank Darabont</td>\n",
       "      <td>93</td>\n",
       "      <td>90.0</td>\n",
       "      <td>80.0</td>\n",
       "      <td>Two imprisoned men bond over a number of years...</td>\n",
       "      <td>N/A</td>\n",
       "    </tr>\n",
       "    <tr>\n",
       "      <th>4</th>\n",
       "      <td>5</td>\n",
       "      <td>The A-Team</td>\n",
       "      <td>2010</td>\n",
       "      <td>Action, Adventure, Thriller</td>\n",
       "      <td>Joe Carnahan</td>\n",
       "      <td>67</td>\n",
       "      <td>49.0</td>\n",
       "      <td>47.0</td>\n",
       "      <td>A group of Iraq War veterans look to clear the...</td>\n",
       "      <td>$77,213,489</td>\n",
       "    </tr>\n",
       "    <tr>\n",
       "      <th>5</th>\n",
       "      <td>6</td>\n",
       "      <td>Blue Streak</td>\n",
       "      <td>1999</td>\n",
       "      <td>Action, Comedy, Crime, Thriller</td>\n",
       "      <td>Les Mayfield</td>\n",
       "      <td>63</td>\n",
       "      <td>36.0</td>\n",
       "      <td>46.0</td>\n",
       "      <td>A former convict poses as a cop to retrieve a ...</td>\n",
       "      <td>N/A</td>\n",
       "    </tr>\n",
       "    <tr>\n",
       "      <th>6</th>\n",
       "      <td>7</td>\n",
       "      <td>Indiana Jones and the Last Crusade</td>\n",
       "      <td>1989</td>\n",
       "      <td>Action, Adventure</td>\n",
       "      <td>Steven Spielberg</td>\n",
       "      <td>82</td>\n",
       "      <td>88.0</td>\n",
       "      <td>65.0</td>\n",
       "      <td>In 1938, after his father Professor Henry Jone...</td>\n",
       "      <td>N/A</td>\n",
       "    </tr>\n",
       "    <tr>\n",
       "      <th>7</th>\n",
       "      <td>8</td>\n",
       "      <td>The Dark Knight</td>\n",
       "      <td>2008</td>\n",
       "      <td>Action, Crime, Drama, Thriller</td>\n",
       "      <td>Christopher Nolan</td>\n",
       "      <td>90</td>\n",
       "      <td>94.0</td>\n",
       "      <td>84.0</td>\n",
       "      <td>When the menace known as the Joker wreaks havo...</td>\n",
       "      <td>$533,316,061</td>\n",
       "    </tr>\n",
       "    <tr>\n",
       "      <th>8</th>\n",
       "      <td>9</td>\n",
       "      <td>The Green Mile</td>\n",
       "      <td>1999</td>\n",
       "      <td>Crime, Drama, Fantasy, Mystery</td>\n",
       "      <td>Frank Darabont</td>\n",
       "      <td>86</td>\n",
       "      <td>78.0</td>\n",
       "      <td>61.0</td>\n",
       "      <td>The lives of guards on Death Row are affected ...</td>\n",
       "      <td>N/A</td>\n",
       "    </tr>\n",
       "    <tr>\n",
       "      <th>9</th>\n",
       "      <td>10</td>\n",
       "      <td>The Usual Suspects</td>\n",
       "      <td>1995</td>\n",
       "      <td>Crime, Mystery, Thriller</td>\n",
       "      <td>Bryan Singer</td>\n",
       "      <td>85</td>\n",
       "      <td>89.0</td>\n",
       "      <td>77.0</td>\n",
       "      <td>A sole survivor tells of the twisty events lea...</td>\n",
       "      <td>N/A</td>\n",
       "    </tr>\n",
       "  </tbody>\n",
       "</table>\n",
       "</div>"
      ],
      "text/plain": [
       "   id                               title  year  \\\n",
       "0   1                  The Man from Earth  2007   \n",
       "1   2                        Forrest Gump  1994   \n",
       "2   3                             Gravity  2013   \n",
       "3   4            The Shawshank Redemption  1994   \n",
       "4   5                          The A-Team  2010   \n",
       "5   6                         Blue Streak  1999   \n",
       "6   7  Indiana Jones and the Last Crusade  1989   \n",
       "7   8                     The Dark Knight  2008   \n",
       "8   9                      The Green Mile  1999   \n",
       "9  10                  The Usual Suspects  1995   \n",
       "\n",
       "                             genre           director  imdb_rating  \\\n",
       "0           Drama, Fantasy, Sci-Fi  Richard Schenkman           79   \n",
       "1                   Drama, Romance    Robert Zemeckis           88   \n",
       "2          Drama, Sci-Fi, Thriller     Alfonso Cuarón           77   \n",
       "3                            Drama     Frank Darabont           93   \n",
       "4      Action, Adventure, Thriller       Joe Carnahan           67   \n",
       "5  Action, Comedy, Crime, Thriller       Les Mayfield           63   \n",
       "6                Action, Adventure   Steven Spielberg           82   \n",
       "7   Action, Crime, Drama, Thriller  Christopher Nolan           90   \n",
       "8   Crime, Drama, Fantasy, Mystery     Frank Darabont           86   \n",
       "9         Crime, Mystery, Thriller       Bryan Singer           85   \n",
       "\n",
       "   rotten_tomatoes  metacritic  \\\n",
       "0              NaN         NaN   \n",
       "1             72.0        82.0   \n",
       "2             96.0        96.0   \n",
       "3             90.0        80.0   \n",
       "4             49.0        47.0   \n",
       "5             36.0        46.0   \n",
       "6             88.0        65.0   \n",
       "7             94.0        84.0   \n",
       "8             78.0        61.0   \n",
       "9             89.0        77.0   \n",
       "\n",
       "                                                plot    box_office  \n",
       "0  An impromptu goodbye party for Professor John ...           N/A  \n",
       "1  The presidencies of Kennedy and Johnson, the e...  $330,000,000  \n",
       "2  Two astronauts work together to survive after ...  $274,084,951  \n",
       "3  Two imprisoned men bond over a number of years...           N/A  \n",
       "4  A group of Iraq War veterans look to clear the...   $77,213,489  \n",
       "5  A former convict poses as a cop to retrieve a ...           N/A  \n",
       "6  In 1938, after his father Professor Henry Jone...           N/A  \n",
       "7  When the menace known as the Joker wreaks havo...  $533,316,061  \n",
       "8  The lives of guards on Death Row are affected ...           N/A  \n",
       "9  A sole survivor tells of the twisty events lea...           N/A  "
      ]
     },
     "execution_count": 160,
     "metadata": {},
     "output_type": "execute_result"
    }
   ],
   "source": [
    "# Verify data insert\n",
    "pd.read_sql('select * from omdb',engine)"
   ]
  }
 ],
 "metadata": {
  "kernelspec": {
   "display_name": "Python 3",
   "language": "python",
   "name": "python3"
  },
  "language_info": {
   "codemirror_mode": {
    "name": "ipython",
    "version": 3
   },
   "file_extension": ".py",
   "mimetype": "text/x-python",
   "name": "python",
   "nbconvert_exporter": "python",
   "pygments_lexer": "ipython3",
   "version": "3.7.3"
  },
  "toc": {
   "base_numbering": 1,
   "nav_menu": {},
   "number_sections": false,
   "sideBar": true,
   "skip_h1_title": false,
   "title_cell": "Table of Contents",
   "title_sidebar": "Contents",
   "toc_cell": true,
   "toc_position": {},
   "toc_section_display": true,
   "toc_window_display": true
  },
  "varInspector": {
   "cols": {
    "lenName": 16,
    "lenType": 16,
    "lenVar": 40
   },
   "kernels_config": {
    "python": {
     "delete_cmd_postfix": "",
     "delete_cmd_prefix": "del ",
     "library": "var_list.py",
     "varRefreshCmd": "print(var_dic_list())"
    },
    "r": {
     "delete_cmd_postfix": ") ",
     "delete_cmd_prefix": "rm(",
     "library": "var_list.r",
     "varRefreshCmd": "cat(var_dic_list()) "
    }
   },
   "types_to_exclude": [
    "module",
    "function",
    "builtin_function_or_method",
    "instance",
    "_Feature"
   ],
   "window_display": false
  }
 },
 "nbformat": 4,
 "nbformat_minor": 2
}
